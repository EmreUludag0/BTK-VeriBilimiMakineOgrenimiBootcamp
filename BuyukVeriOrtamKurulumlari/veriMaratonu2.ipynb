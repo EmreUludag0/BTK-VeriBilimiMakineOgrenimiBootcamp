{
 "cells": [
  {
   "cell_type": "code",
   "execution_count": 1,
   "metadata": {},
   "outputs": [],
   "source": [
    "from pyspark.sql import SparkSession"
   ]
  },
  {
   "cell_type": "code",
   "execution_count": 2,
   "metadata": {},
   "outputs": [],
   "source": [
    "sparkSession = SparkSession.builder.appName(\"Veri Maratonu 2. ornek\").getOrCreate()"
   ]
  },
  {
   "cell_type": "code",
   "execution_count": 3,
   "metadata": {},
   "outputs": [],
   "source": [
    "rawDF = sparkSession.read.csv('verimaratonutest2_20220215.csv', header= True, inferSchema=True)"
   ]
  },
  {
   "cell_type": "code",
   "execution_count": 4,
   "metadata": {},
   "outputs": [
    {
     "name": "stdout",
     "output_type": "stream",
     "text": [
      "+---------+--------+----+--------+\n",
      "|     isim| soyisim| yas|   sehir|\n",
      "+---------+--------+----+--------+\n",
      "|   Mehmet|   Fırat|  25|  Ankara|\n",
      "|     Mert|Mertoğlu|  28|İstanbul|\n",
      "| Bünyamin|    Önüm|NULL|   İzmir|\n",
      "|   Selçuk|    NULL|NULL|   Konya|\n",
      "|     NULL|    NULL|  37| Kocaeli|\n",
      "|     Ömer| Çorapçı|NULL|    NULL|\n",
      "|    Burak| Korkmaz|  32|    NULL|\n",
      "|Hasan Can|   Bulut|  22| Aksaray|\n",
      "+---------+--------+----+--------+\n",
      "\n"
     ]
    }
   ],
   "source": [
    "rawDF.show()"
   ]
  },
  {
   "cell_type": "code",
   "execution_count": 5,
   "metadata": {},
   "outputs": [
    {
     "name": "stdout",
     "output_type": "stream",
     "text": [
      "root\n",
      " |-- isim: string (nullable = true)\n",
      " |-- soyisim: string (nullable = true)\n",
      " |-- yas: integer (nullable = true)\n",
      " |-- sehir: string (nullable = true)\n",
      "\n"
     ]
    }
   ],
   "source": [
    "rawDF.printSchema()"
   ]
  },
  {
   "cell_type": "code",
   "execution_count": 6,
   "metadata": {},
   "outputs": [],
   "source": [
    "nullCheckDF = rawDF.na.drop() # null degerleri listeden çıkarır."
   ]
  },
  {
   "cell_type": "code",
   "execution_count": 7,
   "metadata": {},
   "outputs": [],
   "source": [
    "nullCheckDF = rawDF.na.drop('any')"
   ]
  },
  {
   "cell_type": "code",
   "execution_count": 8,
   "metadata": {},
   "outputs": [],
   "source": [
    "nullCheckDF = rawDF.na.drop('all', thresh=3)"
   ]
  },
  {
   "cell_type": "code",
   "execution_count": 9,
   "metadata": {},
   "outputs": [
    {
     "name": "stdout",
     "output_type": "stream",
     "text": [
      "+---------+--------+----+--------+\n",
      "|     isim| soyisim| yas|   sehir|\n",
      "+---------+--------+----+--------+\n",
      "|   Mehmet|   Fırat|  25|  Ankara|\n",
      "|     Mert|Mertoğlu|  28|İstanbul|\n",
      "| Bünyamin|    Önüm|NULL|   İzmir|\n",
      "|    Burak| Korkmaz|  32|    NULL|\n",
      "|Hasan Can|   Bulut|  22| Aksaray|\n",
      "+---------+--------+----+--------+\n",
      "\n"
     ]
    }
   ],
   "source": [
    "nullCheckDF.show()"
   ]
  },
  {
   "cell_type": "code",
   "execution_count": 10,
   "metadata": {},
   "outputs": [],
   "source": [
    "nullCheckDF = rawDF.na.drop(how='any', subset=['soyisim']) # sadece soyisim özelinde null olanları siler"
   ]
  },
  {
   "cell_type": "code",
   "execution_count": 11,
   "metadata": {},
   "outputs": [
    {
     "name": "stdout",
     "output_type": "stream",
     "text": [
      "+---------+--------+----+--------+\n",
      "|     isim| soyisim| yas|   sehir|\n",
      "+---------+--------+----+--------+\n",
      "|   Mehmet|   Fırat|  25|  Ankara|\n",
      "|     Mert|Mertoğlu|  28|İstanbul|\n",
      "| Bünyamin|    Önüm|NULL|   İzmir|\n",
      "|   Selçuk|boş veri|NULL|   Konya|\n",
      "| boş veri|boş veri|  37| Kocaeli|\n",
      "|     Ömer| Çorapçı|NULL|boş veri|\n",
      "|    Burak| Korkmaz|  32|boş veri|\n",
      "|Hasan Can|   Bulut|  22| Aksaray|\n",
      "+---------+--------+----+--------+\n",
      "\n"
     ]
    }
   ],
   "source": [
    "rawDF.na.fill(\"boş veri\").show() # null olanları doldurmak için kullanılan bir fonksiyondur.\n",
    "#eger parantezin içine strin bir ifade girildiyse bu sadece string kolonların null degerlerini degistirir. \n",
    "# int degerlerin null degerini degistirmek istiyorsak parantez içine de int deger yazılır. bu sefer sadece int kolonların null degerleri degisecektir."
   ]
  },
  {
   "cell_type": "code",
   "execution_count": 12,
   "metadata": {},
   "outputs": [
    {
     "name": "stdout",
     "output_type": "stream",
     "text": [
      "+---------+--------+---+--------+\n",
      "|     isim| soyisim|yas|   sehir|\n",
      "+---------+--------+---+--------+\n",
      "|   Mehmet|   Fırat| 25|  Ankara|\n",
      "|     Mert|Mertoğlu| 28|İstanbul|\n",
      "| Bünyamin|    Önüm|  0|   İzmir|\n",
      "|   Selçuk|    NULL|  0|   Konya|\n",
      "|      BOS|    NULL| 37| Kocaeli|\n",
      "|     Ömer| Çorapçı|  0|    NULL|\n",
      "|    Burak| Korkmaz| 32|    NULL|\n",
      "|Hasan Can|   Bulut| 22| Aksaray|\n",
      "+---------+--------+---+--------+\n",
      "\n"
     ]
    }
   ],
   "source": [
    "rawDF.na.fill({'isim': 'BOS', 'yas': 0}).show() #null degerleri degistirir."
   ]
  },
  {
   "cell_type": "code",
   "execution_count": null,
   "metadata": {},
   "outputs": [],
   "source": []
  }
 ],
 "metadata": {
  "kernelspec": {
   "display_name": "Python 3",
   "language": "python",
   "name": "python3"
  },
  "language_info": {
   "codemirror_mode": {
    "name": "ipython",
    "version": 3
   },
   "file_extension": ".py",
   "mimetype": "text/x-python",
   "name": "python",
   "nbconvert_exporter": "python",
   "pygments_lexer": "ipython3",
   "version": "3.10.7"
  }
 },
 "nbformat": 4,
 "nbformat_minor": 2
}
