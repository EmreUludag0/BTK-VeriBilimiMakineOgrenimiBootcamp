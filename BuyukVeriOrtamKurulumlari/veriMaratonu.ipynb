{
 "cells": [
  {
   "cell_type": "code",
   "execution_count": 1,
   "metadata": {},
   "outputs": [],
   "source": [
    "from pyspark.sql import SparkSession"
   ]
  },
  {
   "cell_type": "code",
   "execution_count": 2,
   "metadata": {},
   "outputs": [],
   "source": [
    "sparkSession = SparkSession.builder.appName(\"Veri M. Ilk Ornek\").getOrCreate()"
   ]
  },
  {
   "cell_type": "code",
   "execution_count": 3,
   "metadata": {},
   "outputs": [
    {
     "data": {
      "text/html": [
       "\n",
       "            <div>\n",
       "                <p><b>SparkSession - in-memory</b></p>\n",
       "                \n",
       "        <div>\n",
       "            <p><b>SparkContext</b></p>\n",
       "\n",
       "            <p><a href=\"http://DESKTOP-3ED4037.mshome.net:4040\">Spark UI</a></p>\n",
       "\n",
       "            <dl>\n",
       "              <dt>Version</dt>\n",
       "                <dd><code>v3.5.1</code></dd>\n",
       "              <dt>Master</dt>\n",
       "                <dd><code>local[*]</code></dd>\n",
       "              <dt>AppName</dt>\n",
       "                <dd><code>Veri M. Ilk Ornek</code></dd>\n",
       "            </dl>\n",
       "        </div>\n",
       "        \n",
       "            </div>\n",
       "        "
      ],
      "text/plain": [
       "<pyspark.sql.session.SparkSession at 0x2cf2ab73640>"
      ]
     },
     "execution_count": 3,
     "metadata": {},
     "output_type": "execute_result"
    }
   ],
   "source": [
    "sparkSession"
   ]
  },
  {
   "cell_type": "code",
   "execution_count": 4,
   "metadata": {},
   "outputs": [
    {
     "name": "stdout",
     "output_type": "stream",
     "text": [
      "+---+----------+----------+--------------------+----------+-----------+-------------+\n",
      "| id|first_name| last_name|               email|    gender|    country|         city|\n",
      "+---+----------+----------+--------------------+----------+-----------+-------------+\n",
      "|  1|     Shane|  Cudworth|scudworth0@wordpr...|    Female|     Mexico|     El Limon|\n",
      "|  2|    Marthe|    Kippax|      mkippax1@de.vu|      Male|      China|      Zhetang|\n",
      "|  3|Petronilla|    Malser|pmalser2@miibeian...|    Female|   Bulgaria|     Karnobat|\n",
      "|  4|   Ottilie|    Fosken|ofosken3@timesonl...|    Female|    Jamaica|   Point Hill|\n",
      "|  5|      Kile|    Sorton|ksorton4@bluehost...|      Male|   Mongolia|       Arhust|\n",
      "|  6|      Buck|Gouldstraw|bgouldstraw5@yell...|Polygender|Philippines|       Liozon|\n",
      "|  7|     Fayre|    Barwis|fbarwis6@studiopr...|    Female|     Russia|Kushchëvskaya|\n",
      "|  8|       Gib|   Packman|gpackman7@princet...|    Female|  Indonesia|     Kuangsan|\n",
      "|  9|    Perice|    Wither|  pwither8@slate.com|      Male|  Indonesia|  Belung Satu|\n",
      "| 10|   Margalo|Ochterlony|mochterlony9@yout...|      Male|     Panama|     Pedregal|\n",
      "| 11|     Maddy|  Taverner|mtavernera@seattl...|      Male|Philippines|     Bungsuan|\n",
      "| 12|  Vivienne|  McCulley|vmcculleyb@wikisp...|      Male|     France|      Créteil|\n",
      "| 13|    Jamaal|    Ayliff| jayliffc@apache.org|Non-binary|      China|  Hongshanzui|\n",
      "| 14|     Betty|  Hanretty|bhanrettyd@whiteh...|      Male|Afghanistan|     Shīnḏanḏ|\n",
      "| 15|    Brandy|   Kincade|    bkincadee@qq.com|      Male|     France|     Toulouse|\n",
      "| 16| Augustine|    Tingly|   atinglyf@ox.ac.uk|      Male|   Bulgaria|      Chavdar|\n",
      "| 17|     Brent|   Finding|   bfindingg@loc.gov|      Male|      Samoa|      Faleula|\n",
      "| 18|      Gris|    Dirand|  gdirandh@goo.ne.jp|      Male|      Haiti| Port-de-Paix|\n",
      "| 19|      Kipp|    Tourle|   ktourlei@ebay.com|      Male|     France|     Le Havre|\n",
      "| 20|    Grazia|   Asquith|gasquithj@altervi...|      Male|   Malaysia|      Kuching|\n",
      "+---+----------+----------+--------------------+----------+-----------+-------------+\n",
      "only showing top 20 rows\n",
      "\n"
     ]
    }
   ],
   "source": [
    "sparkSession.read.csv('verimaratonutest_20220215.csv', header=True).show()"
   ]
  },
  {
   "cell_type": "code",
   "execution_count": 5,
   "metadata": {},
   "outputs": [],
   "source": [
    "rawDF = sparkSession.read.csv('verimaratonutest_20220215.csv',header = True, inferSchema=True)"
   ]
  },
  {
   "cell_type": "code",
   "execution_count": 6,
   "metadata": {},
   "outputs": [
    {
     "name": "stdout",
     "output_type": "stream",
     "text": [
      "+---+----------+----------+--------------------+----------+-----------+-------------+\n",
      "| id|first_name| last_name|               email|    gender|    country|         city|\n",
      "+---+----------+----------+--------------------+----------+-----------+-------------+\n",
      "|  1|     Shane|  Cudworth|scudworth0@wordpr...|    Female|     Mexico|     El Limon|\n",
      "|  2|    Marthe|    Kippax|      mkippax1@de.vu|      Male|      China|      Zhetang|\n",
      "|  3|Petronilla|    Malser|pmalser2@miibeian...|    Female|   Bulgaria|     Karnobat|\n",
      "|  4|   Ottilie|    Fosken|ofosken3@timesonl...|    Female|    Jamaica|   Point Hill|\n",
      "|  5|      Kile|    Sorton|ksorton4@bluehost...|      Male|   Mongolia|       Arhust|\n",
      "|  6|      Buck|Gouldstraw|bgouldstraw5@yell...|Polygender|Philippines|       Liozon|\n",
      "|  7|     Fayre|    Barwis|fbarwis6@studiopr...|    Female|     Russia|Kushchëvskaya|\n",
      "|  8|       Gib|   Packman|gpackman7@princet...|    Female|  Indonesia|     Kuangsan|\n",
      "|  9|    Perice|    Wither|  pwither8@slate.com|      Male|  Indonesia|  Belung Satu|\n",
      "| 10|   Margalo|Ochterlony|mochterlony9@yout...|      Male|     Panama|     Pedregal|\n",
      "| 11|     Maddy|  Taverner|mtavernera@seattl...|      Male|Philippines|     Bungsuan|\n",
      "| 12|  Vivienne|  McCulley|vmcculleyb@wikisp...|      Male|     France|      Créteil|\n",
      "| 13|    Jamaal|    Ayliff| jayliffc@apache.org|Non-binary|      China|  Hongshanzui|\n",
      "| 14|     Betty|  Hanretty|bhanrettyd@whiteh...|      Male|Afghanistan|     Shīnḏanḏ|\n",
      "| 15|    Brandy|   Kincade|    bkincadee@qq.com|      Male|     France|     Toulouse|\n",
      "| 16| Augustine|    Tingly|   atinglyf@ox.ac.uk|      Male|   Bulgaria|      Chavdar|\n",
      "| 17|     Brent|   Finding|   bfindingg@loc.gov|      Male|      Samoa|      Faleula|\n",
      "| 18|      Gris|    Dirand|  gdirandh@goo.ne.jp|      Male|      Haiti| Port-de-Paix|\n",
      "| 19|      Kipp|    Tourle|   ktourlei@ebay.com|      Male|     France|     Le Havre|\n",
      "| 20|    Grazia|   Asquith|gasquithj@altervi...|      Male|   Malaysia|      Kuching|\n",
      "+---+----------+----------+--------------------+----------+-----------+-------------+\n",
      "only showing top 20 rows\n",
      "\n"
     ]
    }
   ],
   "source": [
    "rawDF.show()"
   ]
  },
  {
   "cell_type": "code",
   "execution_count": 7,
   "metadata": {},
   "outputs": [
    {
     "name": "stdout",
     "output_type": "stream",
     "text": [
      "root\n",
      " |-- id: integer (nullable = true)\n",
      " |-- first_name: string (nullable = true)\n",
      " |-- last_name: string (nullable = true)\n",
      " |-- email: string (nullable = true)\n",
      " |-- gender: string (nullable = true)\n",
      " |-- country: string (nullable = true)\n",
      " |-- city: string (nullable = true)\n",
      "\n"
     ]
    }
   ],
   "source": [
    "rawDF.printSchema() #şema çıkarır."
   ]
  },
  {
   "cell_type": "code",
   "execution_count": 8,
   "metadata": {},
   "outputs": [
    {
     "data": {
      "text/plain": [
       "pyspark.sql.dataframe.DataFrame"
      ]
     },
     "execution_count": 8,
     "metadata": {},
     "output_type": "execute_result"
    }
   ],
   "source": [
    "type(rawDF)"
   ]
  },
  {
   "cell_type": "code",
   "execution_count": 9,
   "metadata": {},
   "outputs": [
    {
     "data": {
      "text/plain": [
       "['id', 'first_name', 'last_name', 'email', 'gender', 'country', 'city']"
      ]
     },
     "execution_count": 9,
     "metadata": {},
     "output_type": "execute_result"
    }
   ],
   "source": [
    "rawDF.columns"
   ]
  },
  {
   "cell_type": "code",
   "execution_count": 10,
   "metadata": {},
   "outputs": [
    {
     "data": {
      "text/plain": [
       "[Row(id=1, first_name='Shane', last_name='Cudworth', email='scudworth0@wordpress.com', gender='Female', country='Mexico', city='El Limon'),\n",
       " Row(id=2, first_name='Marthe', last_name='Kippax', email='mkippax1@de.vu', gender='Male', country='China', city='Zhetang'),\n",
       " Row(id=3, first_name='Petronilla', last_name='Malser', email='pmalser2@miibeian.gov.cn', gender='Female', country='Bulgaria', city='Karnobat')]"
      ]
     },
     "execution_count": 10,
     "metadata": {},
     "output_type": "execute_result"
    }
   ],
   "source": [
    "rawDF.head(3)"
   ]
  },
  {
   "cell_type": "code",
   "execution_count": 11,
   "metadata": {},
   "outputs": [
    {
     "data": {
      "text/plain": [
       "DataFrame[first_name: string, country: string]"
      ]
     },
     "execution_count": 11,
     "metadata": {},
     "output_type": "execute_result"
    }
   ],
   "source": [
    "rawDF.select('first_name','country')"
   ]
  },
  {
   "cell_type": "code",
   "execution_count": 12,
   "metadata": {},
   "outputs": [
    {
     "name": "stdout",
     "output_type": "stream",
     "text": [
      "+-------+-----------------+----------+---------+--------------------+----------+-----------+-----------+\n",
      "|summary|               id|first_name|last_name|               email|    gender|    country|       city|\n",
      "+-------+-----------------+----------+---------+--------------------+----------+-----------+-----------+\n",
      "|  count|             1000|      1000|     1000|                1000|      1000|       1000|       1000|\n",
      "|   mean|            500.5|      NULL|     NULL|                NULL|      NULL|       NULL|       NULL|\n",
      "| stddev|288.8194360957494|      NULL|     NULL|                NULL|      NULL|       NULL|       NULL|\n",
      "|    min|                1|       Abe|    Abeau|aabisettib4@faceb...|   Agender|Afghanistan|'Ali Sabieh|\n",
      "|    max|             1000|     Zorah|    Zoppo|zseebornelp@daily...|Polygender|     Zambia|    ‘Arīqah|\n",
      "+-------+-----------------+----------+---------+--------------------+----------+-----------+-----------+\n",
      "\n"
     ]
    }
   ],
   "source": [
    "rawDF.describe().show()"
   ]
  },
  {
   "cell_type": "code",
   "execution_count": 13,
   "metadata": {},
   "outputs": [
    {
     "name": "stdout",
     "output_type": "stream",
     "text": [
      "+---+----------+----------+--------------------+----------+-----------+-------------+------+\n",
      "| id|first_name| last_name|               email|    gender|    country|         city|new_id|\n",
      "+---+----------+----------+--------------------+----------+-----------+-------------+------+\n",
      "|  1|     Shane|  Cudworth|scudworth0@wordpr...|    Female|     Mexico|     El Limon|  1001|\n",
      "|  2|    Marthe|    Kippax|      mkippax1@de.vu|      Male|      China|      Zhetang|  1002|\n",
      "|  3|Petronilla|    Malser|pmalser2@miibeian...|    Female|   Bulgaria|     Karnobat|  1003|\n",
      "|  4|   Ottilie|    Fosken|ofosken3@timesonl...|    Female|    Jamaica|   Point Hill|  1004|\n",
      "|  5|      Kile|    Sorton|ksorton4@bluehost...|      Male|   Mongolia|       Arhust|  1005|\n",
      "|  6|      Buck|Gouldstraw|bgouldstraw5@yell...|Polygender|Philippines|       Liozon|  1006|\n",
      "|  7|     Fayre|    Barwis|fbarwis6@studiopr...|    Female|     Russia|Kushchëvskaya|  1007|\n",
      "|  8|       Gib|   Packman|gpackman7@princet...|    Female|  Indonesia|     Kuangsan|  1008|\n",
      "|  9|    Perice|    Wither|  pwither8@slate.com|      Male|  Indonesia|  Belung Satu|  1009|\n",
      "| 10|   Margalo|Ochterlony|mochterlony9@yout...|      Male|     Panama|     Pedregal|  1010|\n",
      "| 11|     Maddy|  Taverner|mtavernera@seattl...|      Male|Philippines|     Bungsuan|  1011|\n",
      "| 12|  Vivienne|  McCulley|vmcculleyb@wikisp...|      Male|     France|      Créteil|  1012|\n",
      "| 13|    Jamaal|    Ayliff| jayliffc@apache.org|Non-binary|      China|  Hongshanzui|  1013|\n",
      "| 14|     Betty|  Hanretty|bhanrettyd@whiteh...|      Male|Afghanistan|     Shīnḏanḏ|  1014|\n",
      "| 15|    Brandy|   Kincade|    bkincadee@qq.com|      Male|     France|     Toulouse|  1015|\n",
      "| 16| Augustine|    Tingly|   atinglyf@ox.ac.uk|      Male|   Bulgaria|      Chavdar|  1016|\n",
      "| 17|     Brent|   Finding|   bfindingg@loc.gov|      Male|      Samoa|      Faleula|  1017|\n",
      "| 18|      Gris|    Dirand|  gdirandh@goo.ne.jp|      Male|      Haiti| Port-de-Paix|  1018|\n",
      "| 19|      Kipp|    Tourle|   ktourlei@ebay.com|      Male|     France|     Le Havre|  1019|\n",
      "| 20|    Grazia|   Asquith|gasquithj@altervi...|      Male|   Malaysia|      Kuching|  1020|\n",
      "+---+----------+----------+--------------------+----------+-----------+-------------+------+\n",
      "only showing top 20 rows\n",
      "\n"
     ]
    }
   ],
   "source": [
    "rawDF.withColumn('new_id', rawDF['id']+1000).show()"
   ]
  },
  {
   "cell_type": "code",
   "execution_count": 14,
   "metadata": {},
   "outputs": [
    {
     "name": "stdout",
     "output_type": "stream",
     "text": [
      "+-----------+-----+\n",
      "|    country|count|\n",
      "+-----------+-----+\n",
      "|       Chad|    1|\n",
      "|     Russia|   71|\n",
      "|   Paraguay|    2|\n",
      "|      Yemen|    5|\n",
      "|     Sweden|   17|\n",
      "|   Kiribati|    1|\n",
      "|     Guyana|    1|\n",
      "|Philippines|   52|\n",
      "|   Djibouti|    1|\n",
      "|   Malaysia|   11|\n",
      "|     Turkey|    1|\n",
      "|    Germany|    3|\n",
      "|    Comoros|    3|\n",
      "|Afghanistan|    4|\n",
      "|Ivory Coast|    2|\n",
      "|     Rwanda|    1|\n",
      "|     Jordan|    4|\n",
      "|     France|   28|\n",
      "|     Greece|   23|\n",
      "|     Kosovo|    1|\n",
      "+-----------+-----+\n",
      "only showing top 20 rows\n",
      "\n"
     ]
    }
   ],
   "source": [
    "cityByCountry = rawDF.groupBy('country').count()\n",
    "cityByCountry.show()"
   ]
  },
  {
   "cell_type": "code",
   "execution_count": 15,
   "metadata": {},
   "outputs": [
    {
     "name": "stdout",
     "output_type": "stream",
     "text": [
      "+-----------+-----+\n",
      "|    country|count|\n",
      "+-----------+-----+\n",
      "|       Chad|    1|\n",
      "|     Russia|   71|\n",
      "|   Paraguay|    2|\n",
      "|      Yemen|    5|\n",
      "|     Sweden|   17|\n",
      "|   Kiribati|    1|\n",
      "|     Guyana|    1|\n",
      "|Philippines|   52|\n",
      "|   Djibouti|    1|\n",
      "|   Malaysia|   11|\n",
      "|     Turkey|    1|\n",
      "|    Germany|    3|\n",
      "|    Comoros|    3|\n",
      "|Afghanistan|    4|\n",
      "|Ivory Coast|    2|\n",
      "|     Rwanda|    1|\n",
      "|     Jordan|    4|\n",
      "|     France|   28|\n",
      "|     Greece|   23|\n",
      "|     Kosovo|    1|\n",
      "+-----------+-----+\n",
      "only showing top 20 rows\n",
      "\n"
     ]
    }
   ],
   "source": [
    "rawDF.select('first_name', 'country').groupBy('country').count().show()"
   ]
  },
  {
   "cell_type": "code",
   "execution_count": 16,
   "metadata": {},
   "outputs": [
    {
     "name": "stdout",
     "output_type": "stream",
     "text": [
      "+---+----------+----------+--------------------+-------+-----------+----------------+\n",
      "| id|first_name| last_name|               email| gender|    country|            city|\n",
      "+---+----------+----------+--------------------+-------+-----------+----------------+\n",
      "|501|      Akim|       Pee|    apeedw@google.cn|   Male|   Thailand|       Wiphawadi|\n",
      "|502|   Valaria|      Noli|     vnolidx@irs.gov| Female|   Thailand|       Tha Muang|\n",
      "|503|   Jemimah|    Lovart|   jlovartdy@php.net|   Male|      China|     Yangxunqiao|\n",
      "|504|     Adair|    Rollin|arollindz@feedbur...|   Male|     France|        Paris 16|\n",
      "|505|    Vonnie|MacKnocker|vmacknockere0@tum...| Female|      China|       Xiangyang|\n",
      "|506|     Lyell| Yitzovicz|lyitzovicze1@squi...|   Male|     Russia|Petropavlovskaya|\n",
      "|507|  Humfried|      Gabb|hgabbe2@posterous...| Female| Tajikistan|        Danghara|\n",
      "|508|     Tracy|  Sketcher|tsketchere3@drupa...|   Male|     Russia|          Valday|\n",
      "|509|   Fabiano|    Callam|fcallame4@seesaa.net| Female|      China|       Huangling|\n",
      "|510|    Dorine|    Pollok| dpolloke5@amazon.de|   Male|   Malaysia|          Melaka|\n",
      "|511|    Pascal|  Mallabar|pmallabare6@addth...|Agender|     Sweden|          Kalmar|\n",
      "|512|     Julio|     Twort| jtworte7@devhub.com| Female|    Burundi|         Makamba|\n",
      "|513|    Karrie|  Fronczak|kfronczake8@admin.ch| Female|      Kenya|           Thika|\n",
      "|514|    Agathe|  Alldritt|aalldritte9@googl...|   Male|Philippines|            Oton|\n",
      "|515|      Alie| Woodroffe|awoodroffeea@free.fr|   Male|    Croatia|         Goričan|\n",
      "|516|     Tabby| Harrinson|tharrinsoneb@goog...| Female|     Mexico|  Miguel Hidalgo|\n",
      "|517|     Lacie|     Karus|lkarusec@macromed...|   Male|New Zealand|      Otorohanga|\n",
      "|518|   Aurelia|   Mannagh|amannaghed@hubpag...| Female| Azerbaijan|    Divichibazar|\n",
      "|519|    Dieter|  Mattioni|dmattioniee@image...| Female|  Indonesia|         Ciputat|\n",
      "|520|   Loraine| Decayette|ldecayetteef@squi...|   Male|   Portugal|  Praia da Barra|\n",
      "+---+----------+----------+--------------------+-------+-----------+----------------+\n",
      "only showing top 20 rows\n",
      "\n"
     ]
    }
   ],
   "source": [
    "rawDF.filter(\"id>500\").show()"
   ]
  },
  {
   "cell_type": "code",
   "execution_count": 17,
   "metadata": {},
   "outputs": [
    {
     "name": "stdout",
     "output_type": "stream",
     "text": [
      "+---+----------+---------+-----+------+-------+----+\n",
      "| id|first_name|last_name|email|gender|country|city|\n",
      "+---+----------+---------+-----+------+-------+----+\n",
      "+---+----------+---------+-----+------+-------+----+\n",
      "\n"
     ]
    }
   ],
   "source": [
    "rawDF.filter(\"country == 'turkey'\").show()"
   ]
  },
  {
   "cell_type": "code",
   "execution_count": 18,
   "metadata": {},
   "outputs": [
    {
     "name": "stdout",
     "output_type": "stream",
     "text": [
      "+---+----------+----------+----------+-----------+-------------+\n",
      "| id|first_name| last_name|    gender|    country|         city|\n",
      "+---+----------+----------+----------+-----------+-------------+\n",
      "|  1|     Shane|  Cudworth|    Female|     Mexico|     El Limon|\n",
      "|  2|    Marthe|    Kippax|      Male|      China|      Zhetang|\n",
      "|  3|Petronilla|    Malser|    Female|   Bulgaria|     Karnobat|\n",
      "|  4|   Ottilie|    Fosken|    Female|    Jamaica|   Point Hill|\n",
      "|  5|      Kile|    Sorton|      Male|   Mongolia|       Arhust|\n",
      "|  6|      Buck|Gouldstraw|Polygender|Philippines|       Liozon|\n",
      "|  7|     Fayre|    Barwis|    Female|     Russia|Kushchëvskaya|\n",
      "|  8|       Gib|   Packman|    Female|  Indonesia|     Kuangsan|\n",
      "|  9|    Perice|    Wither|      Male|  Indonesia|  Belung Satu|\n",
      "| 10|   Margalo|Ochterlony|      Male|     Panama|     Pedregal|\n",
      "| 11|     Maddy|  Taverner|      Male|Philippines|     Bungsuan|\n",
      "| 12|  Vivienne|  McCulley|      Male|     France|      Créteil|\n",
      "| 13|    Jamaal|    Ayliff|Non-binary|      China|  Hongshanzui|\n",
      "| 14|     Betty|  Hanretty|      Male|Afghanistan|     Shīnḏanḏ|\n",
      "| 15|    Brandy|   Kincade|      Male|     France|     Toulouse|\n",
      "| 16| Augustine|    Tingly|      Male|   Bulgaria|      Chavdar|\n",
      "| 17|     Brent|   Finding|      Male|      Samoa|      Faleula|\n",
      "| 18|      Gris|    Dirand|      Male|      Haiti| Port-de-Paix|\n",
      "| 19|      Kipp|    Tourle|      Male|     France|     Le Havre|\n",
      "| 20|    Grazia|   Asquith|      Male|   Malaysia|      Kuching|\n",
      "+---+----------+----------+----------+-----------+-------------+\n",
      "only showing top 20 rows\n",
      "\n"
     ]
    }
   ],
   "source": [
    "rawDF.drop('email').show()"
   ]
  },
  {
   "cell_type": "code",
   "execution_count": 19,
   "metadata": {},
   "outputs": [
    {
     "name": "stdout",
     "output_type": "stream",
     "text": [
      "+---+----------+----------+--------------------+----------+-----------+-------------+\n",
      "| id| firstname|  lastname|               email|    gender|    country|         city|\n",
      "+---+----------+----------+--------------------+----------+-----------+-------------+\n",
      "|  1|     Shane|  Cudworth|scudworth0@wordpr...|    Female|     Mexico|     El Limon|\n",
      "|  2|    Marthe|    Kippax|      mkippax1@de.vu|      Male|      China|      Zhetang|\n",
      "|  3|Petronilla|    Malser|pmalser2@miibeian...|    Female|   Bulgaria|     Karnobat|\n",
      "|  4|   Ottilie|    Fosken|ofosken3@timesonl...|    Female|    Jamaica|   Point Hill|\n",
      "|  5|      Kile|    Sorton|ksorton4@bluehost...|      Male|   Mongolia|       Arhust|\n",
      "|  6|      Buck|Gouldstraw|bgouldstraw5@yell...|Polygender|Philippines|       Liozon|\n",
      "|  7|     Fayre|    Barwis|fbarwis6@studiopr...|    Female|     Russia|Kushchëvskaya|\n",
      "|  8|       Gib|   Packman|gpackman7@princet...|    Female|  Indonesia|     Kuangsan|\n",
      "|  9|    Perice|    Wither|  pwither8@slate.com|      Male|  Indonesia|  Belung Satu|\n",
      "| 10|   Margalo|Ochterlony|mochterlony9@yout...|      Male|     Panama|     Pedregal|\n",
      "| 11|     Maddy|  Taverner|mtavernera@seattl...|      Male|Philippines|     Bungsuan|\n",
      "| 12|  Vivienne|  McCulley|vmcculleyb@wikisp...|      Male|     France|      Créteil|\n",
      "| 13|    Jamaal|    Ayliff| jayliffc@apache.org|Non-binary|      China|  Hongshanzui|\n",
      "| 14|     Betty|  Hanretty|bhanrettyd@whiteh...|      Male|Afghanistan|     Shīnḏanḏ|\n",
      "| 15|    Brandy|   Kincade|    bkincadee@qq.com|      Male|     France|     Toulouse|\n",
      "| 16| Augustine|    Tingly|   atinglyf@ox.ac.uk|      Male|   Bulgaria|      Chavdar|\n",
      "| 17|     Brent|   Finding|   bfindingg@loc.gov|      Male|      Samoa|      Faleula|\n",
      "| 18|      Gris|    Dirand|  gdirandh@goo.ne.jp|      Male|      Haiti| Port-de-Paix|\n",
      "| 19|      Kipp|    Tourle|   ktourlei@ebay.com|      Male|     France|     Le Havre|\n",
      "| 20|    Grazia|   Asquith|gasquithj@altervi...|      Male|   Malaysia|      Kuching|\n",
      "+---+----------+----------+--------------------+----------+-----------+-------------+\n",
      "only showing top 20 rows\n",
      "\n"
     ]
    }
   ],
   "source": [
    "rawDF.withColumnRenamed('first_name', 'firstname').withColumnRenamed('last_name', 'lastname').show()"
   ]
  },
  {
   "cell_type": "code",
   "execution_count": 20,
   "metadata": {},
   "outputs": [],
   "source": [
    "countBycountryDF = rawDF.select('first_name', 'country').groupBy('country').count().orderBy('count')"
   ]
  },
  {
   "cell_type": "code",
   "execution_count": 21,
   "metadata": {},
   "outputs": [
    {
     "data": {
      "text/plain": [
       "DataFrame[country: string, count: bigint]"
      ]
     },
     "metadata": {},
     "output_type": "display_data"
    }
   ],
   "source": [
    "display(countBycountryDF)"
   ]
  },
  {
   "cell_type": "code",
   "execution_count": 22,
   "metadata": {},
   "outputs": [],
   "source": [
    "rawDF.createOrReplaceTempView(\"person\")"
   ]
  },
  {
   "cell_type": "code",
   "execution_count": 29,
   "metadata": {},
   "outputs": [
    {
     "name": "stderr",
     "output_type": "stream",
     "text": [
      "UsageError: Cell magic `%%sql` not found.\n"
     ]
    }
   ],
   "source": [
    "%%sql SELECT * FROM person"
   ]
  },
  {
   "cell_type": "code",
   "execution_count": null,
   "metadata": {},
   "outputs": [],
   "source": []
  }
 ],
 "metadata": {
  "kernelspec": {
   "display_name": "Python 3",
   "language": "python",
   "name": "python3"
  },
  "language_info": {
   "codemirror_mode": {
    "name": "ipython",
    "version": 3
   },
   "file_extension": ".py",
   "mimetype": "text/x-python",
   "name": "python",
   "nbconvert_exporter": "python",
   "pygments_lexer": "ipython3",
   "version": "3.10.7"
  }
 },
 "nbformat": 4,
 "nbformat_minor": 2
}
