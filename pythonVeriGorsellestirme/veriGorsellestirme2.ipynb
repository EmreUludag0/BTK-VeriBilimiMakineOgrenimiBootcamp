{
 "cells": [
  {
   "cell_type": "code",
   "execution_count": 28,
   "metadata": {},
   "outputs": [
    {
     "data": {
      "text/html": [
       "        <script type=\"text/javascript\">\n",
       "        window.PlotlyConfig = {MathJaxConfig: 'local'};\n",
       "        if (window.MathJax && window.MathJax.Hub && window.MathJax.Hub.Config) {window.MathJax.Hub.Config({SVG: {font: \"STIX-Web\"}});}\n",
       "        if (typeof require !== 'undefined') {\n",
       "        require.undef(\"plotly\");\n",
       "        requirejs.config({\n",
       "            paths: {\n",
       "                'plotly': ['https://cdn.plot.ly/plotly-2.27.0.min']\n",
       "            }\n",
       "        });\n",
       "        require(['plotly'], function(Plotly) {\n",
       "            window._Plotly = Plotly;\n",
       "        });\n",
       "        }\n",
       "        </script>\n",
       "        "
      ]
     },
     "metadata": {},
     "output_type": "display_data"
    }
   ],
   "source": [
    "import pandas as pd\n",
    "import matplotlib.pyplot as plt\n",
    "import numpy as np\n",
    "\n",
    "import warnings \n",
    "warnings.filterwarnings(\"ignore\")\n",
    "\n",
    "from plotly.offline import init_notebook_mode, iplot,plot\n",
    "import plotly as py\n",
    "init_notebook_mode(connected=True)\n",
    "\n",
    "import plotly.graph_objs as go\n",
    "import plotly.io as pio\n",
    "import plotly.figure_factory as ff"
   ]
  },
  {
   "cell_type": "code",
   "execution_count": 29,
   "metadata": {},
   "outputs": [
    {
     "data": {
      "text/html": [
       "<div>\n",
       "<style scoped>\n",
       "    .dataframe tbody tr th:only-of-type {\n",
       "        vertical-align: middle;\n",
       "    }\n",
       "\n",
       "    .dataframe tbody tr th {\n",
       "        vertical-align: top;\n",
       "    }\n",
       "\n",
       "    .dataframe thead th {\n",
       "        text-align: right;\n",
       "    }\n",
       "</style>\n",
       "<table border=\"1\" class=\"dataframe\">\n",
       "  <thead>\n",
       "    <tr style=\"text-align: right;\">\n",
       "      <th></th>\n",
       "      <th>world_rank</th>\n",
       "      <th>university_name</th>\n",
       "      <th>country</th>\n",
       "      <th>teaching</th>\n",
       "      <th>international</th>\n",
       "      <th>research</th>\n",
       "      <th>citations</th>\n",
       "      <th>income</th>\n",
       "      <th>total_score</th>\n",
       "      <th>num_students</th>\n",
       "      <th>student_staff_ratio</th>\n",
       "      <th>international_students</th>\n",
       "      <th>female_male_ratio</th>\n",
       "      <th>year</th>\n",
       "    </tr>\n",
       "  </thead>\n",
       "  <tbody>\n",
       "    <tr>\n",
       "      <th>0</th>\n",
       "      <td>1</td>\n",
       "      <td>Harvard University</td>\n",
       "      <td>United States of America</td>\n",
       "      <td>99.7</td>\n",
       "      <td>72.4</td>\n",
       "      <td>98.7</td>\n",
       "      <td>98.8</td>\n",
       "      <td>34.5</td>\n",
       "      <td>96.1</td>\n",
       "      <td>20,152</td>\n",
       "      <td>8.9</td>\n",
       "      <td>25%</td>\n",
       "      <td>NaN</td>\n",
       "      <td>2011</td>\n",
       "    </tr>\n",
       "    <tr>\n",
       "      <th>1</th>\n",
       "      <td>2</td>\n",
       "      <td>California Institute of Technology</td>\n",
       "      <td>United States of America</td>\n",
       "      <td>97.7</td>\n",
       "      <td>54.6</td>\n",
       "      <td>98.0</td>\n",
       "      <td>99.9</td>\n",
       "      <td>83.7</td>\n",
       "      <td>96.0</td>\n",
       "      <td>2,243</td>\n",
       "      <td>6.9</td>\n",
       "      <td>27%</td>\n",
       "      <td>33 : 67</td>\n",
       "      <td>2011</td>\n",
       "    </tr>\n",
       "    <tr>\n",
       "      <th>2</th>\n",
       "      <td>3</td>\n",
       "      <td>Massachusetts Institute of Technology</td>\n",
       "      <td>United States of America</td>\n",
       "      <td>97.8</td>\n",
       "      <td>82.3</td>\n",
       "      <td>91.4</td>\n",
       "      <td>99.9</td>\n",
       "      <td>87.5</td>\n",
       "      <td>95.6</td>\n",
       "      <td>11,074</td>\n",
       "      <td>9.0</td>\n",
       "      <td>33%</td>\n",
       "      <td>37 : 63</td>\n",
       "      <td>2011</td>\n",
       "    </tr>\n",
       "  </tbody>\n",
       "</table>\n",
       "</div>"
      ],
      "text/plain": [
       "  world_rank                        university_name                   country  \\\n",
       "0          1                     Harvard University  United States of America   \n",
       "1          2     California Institute of Technology  United States of America   \n",
       "2          3  Massachusetts Institute of Technology  United States of America   \n",
       "\n",
       "   teaching international  research  citations income total_score  \\\n",
       "0      99.7          72.4      98.7       98.8   34.5        96.1   \n",
       "1      97.7          54.6      98.0       99.9   83.7        96.0   \n",
       "2      97.8          82.3      91.4       99.9   87.5        95.6   \n",
       "\n",
       "  num_students  student_staff_ratio international_students female_male_ratio  \\\n",
       "0       20,152                  8.9                    25%               NaN   \n",
       "1        2,243                  6.9                    27%           33 : 67   \n",
       "2       11,074                  9.0                    33%           37 : 63   \n",
       "\n",
       "   year  \n",
       "0  2011  \n",
       "1  2011  \n",
       "2  2011  "
      ]
     },
     "execution_count": 29,
     "metadata": {},
     "output_type": "execute_result"
    }
   ],
   "source": [
    "veri = pd.read_csv(\"universite_siralamasi_20220204.csv\")\n",
    "veri.head(3)"
   ]
  },
  {
   "cell_type": "code",
   "execution_count": 30,
   "metadata": {},
   "outputs": [
    {
     "data": {
      "text/plain": [
       "Index(['world_rank', 'university_name', 'country', 'teaching', 'international',\n",
       "       'research', 'citations', 'income', 'total_score', 'num_students',\n",
       "       'student_staff_ratio', 'international_students', 'female_male_ratio',\n",
       "       'year'],\n",
       "      dtype='object')"
      ]
     },
     "execution_count": 30,
     "metadata": {},
     "output_type": "execute_result"
    }
   ],
   "source": [
    "veri.columns"
   ]
  },
  {
   "cell_type": "code",
   "execution_count": 31,
   "metadata": {},
   "outputs": [],
   "source": [
    "#kolon ismi degistirmek icin rename fonk kullanılır\n",
    "veri.rename(columns={'world_rank'       : 'Dunya_siralama',\n",
    "                     'university_name'  : 'Uni_ismi',\n",
    "                     'country'          : 'Ulke',\n",
    "                     'teaching'         : 'Ogretim',\n",
    "                     'international'    : 'Uluslararasi',\n",
    "                     'research'         : 'Arastirma',\n",
    "                     'citations'        : 'Alinti',\n",
    "                     'income'           : 'Gelir',\n",
    "                     'total_score'      : 'Toplam_Puan',\n",
    "                     'num_students'     : 'Ogrenci_Sayisi',\n",
    "                     'student_staff_ratio'      : 'Ogrenci_Calisan_Orani',\n",
    "                     'international_students'   : 'Uluslararasi_Ogrenci',\n",
    "                     'female_male_ratio'        : 'Kadin_Erkek_Orani',\n",
    "                     'year'             : 'Yil'}, inplace=True) #inplace = yeni sutun olusturmadan direkt ustune olusturmasi icin kullanilir.\n"
   ]
  },
  {
   "cell_type": "markdown",
   "metadata": {},
   "source": [
    "# Plotly Stilleri (bu konuda alistirma yapilacak)"
   ]
  },
  {
   "cell_type": "markdown",
   "metadata": {},
   "source": [
    "Cizgi Grafigi"
   ]
  },
  {
   "cell_type": "code",
   "execution_count": 32,
   "metadata": {},
   "outputs": [],
   "source": [
    "df = veri.iloc[:100,:]"
   ]
  },
  {
   "cell_type": "code",
   "execution_count": 33,
   "metadata": {},
   "outputs": [],
   "source": [
    "pio.templates.default = \"simple_white\""
   ]
  },
  {
   "cell_type": "code",
   "execution_count": 38,
   "metadata": {},
   "outputs": [
    {
     "data": {
      "text/plain": [
       "'1_cizgi-alinti ve ogretim puanlari.html'"
      ]
     },
     "execution_count": 38,
     "metadata": {},
     "output_type": "execute_result"
    }
   ],
   "source": [
    "cizgi1 = go.Scatter(x = df.Dunya_siralama,\n",
    "                    y = df.Alinti,\n",
    "                    mode = \"markers\",\n",
    "                    name = \"Alinti\",\n",
    "                    marker = dict(color = 'rgba(78,78,250,0.85)'),\n",
    "                    text = df.Uni_ismi)\n",
    "\n",
    "cizgi2 = go.Scatter(x = df.Dunya_siralama,\n",
    "                    y = df.Ogretim,\n",
    "                    mode = \"markers\",\n",
    "                    name = \"Egitim-Ogretim Faaliyetleri\",\n",
    "                    marker = dict(color = 'rgba(202,43,15,0.85)'),\n",
    "                    text = df.Uni_ismi)\n",
    "\n",
    "veri_ = [cizgi1, cizgi2]\n",
    "\n",
    "yerlesim = dict(title= 'Dunya Siralamasinda ilk 100 Uni Atif ve Egitim-Ogretim Puanlari',\n",
    "                xaxis = dict(title = 'Dunya Siralamasi',ticklen= 5,zeroline= False))\n",
    "\n",
    "fig = dict(data= veri_, layout = yerlesim)\n",
    "plot(fig, filename='1_cizgi-alinti ve ogretim puanlari.html')\n"
   ]
  },
  {
   "cell_type": "markdown",
   "metadata": {},
   "source": [
    "Cubuk Grafigi"
   ]
  },
  {
   "cell_type": "code",
   "execution_count": 51,
   "metadata": {},
   "outputs": [],
   "source": [
    "veri2014 = df[df.Yil == 2011].iloc[:5,:]\n",
    "cizgi1 = go.Bar(x = veri2014.Uni_ismi,\n",
    "                y = veri2014.Alinti,\n",
    "                name = \"Alinti\",\n",
    "                marker = dict(color = 'rgba(78,78,250,0.85)',\n",
    "                    line = dict(color = 'rgb(0,0,0)',width = 1.5)),\n",
    "                text = veri2014.Ulke)\n",
    "\n",
    "cizgi2 = go.Bar(x = veri2014.Uni_ismi,\n",
    "                y = veri2014.Alinti,\n",
    "                name = \"Egitim-Ogretim Faaliyetleri\",\n",
    "                marker = dict(color = 'rgba(78,78,250,0.85)',\n",
    "                    line = dict(color = 'rgb(0,0,0)',width = 1.5)),\n",
    "                text = veri2014.Ulke)\n",
    "\n",
    "veri_ = [cizgi1, cizgi2]\n",
    "yerlesim = go.Layout(barmode = \"group\")\n",
    "fig = go.Figure(data= veri_ , layout= yerlesim)\n",
    "plot(fig, filename='2_cubuk-alinti ve ogretim puanlari')\n"
   ]
  },
  {
   "cell_type": "markdown",
   "metadata": {},
   "source": [
    "Dairesel Grafik "
   ]
  },
  {
   "cell_type": "code",
   "execution_count": 58,
   "metadata": {},
   "outputs": [
    {
     "ename": "ValueError",
     "evalue": "could not convert string to float: '20-152'",
     "output_type": "error",
     "traceback": [
      "\u001b[1;31m---------------------------------------------------------------------------\u001b[0m",
      "\u001b[1;31mValueError\u001b[0m                                Traceback (most recent call last)",
      "Cell \u001b[1;32mIn [58], line 3\u001b[0m\n\u001b[0;32m      1\u001b[0m veri2011 \u001b[38;5;241m=\u001b[39m df[df\u001b[38;5;241m.\u001b[39mYil \u001b[38;5;241m==\u001b[39m \u001b[38;5;241m2011\u001b[39m]\u001b[38;5;241m.\u001b[39miloc[:\u001b[38;5;241m8\u001b[39m,:]\n\u001b[0;32m      2\u001b[0m dilim1 \u001b[38;5;241m=\u001b[39m veri2011\u001b[38;5;241m.\u001b[39mOgrenci_Sayisi\n\u001b[1;32m----> 3\u001b[0m dilim1_liste \u001b[38;5;241m=\u001b[39m [\u001b[38;5;28mfloat\u001b[39m(each\u001b[38;5;241m.\u001b[39mreplace(\u001b[38;5;124m'\u001b[39m\u001b[38;5;124m,\u001b[39m\u001b[38;5;124m'\u001b[39m,\u001b[38;5;124m'\u001b[39m\u001b[38;5;124m-\u001b[39m\u001b[38;5;124m'\u001b[39m)) \u001b[38;5;28;01mfor\u001b[39;00m each \u001b[38;5;129;01min\u001b[39;00m veri2011\u001b[38;5;241m.\u001b[39mOgrenci_Sayisi]\n\u001b[0;32m      4\u001b[0m etiketler \u001b[38;5;241m=\u001b[39m veri2011\u001b[38;5;241m.\u001b[39mUni_ismi\n\u001b[0;32m      6\u001b[0m cizgi \u001b[38;5;241m=\u001b[39m go\u001b[38;5;241m.\u001b[39mPie(labels\u001b[38;5;241m=\u001b[39m etiketler,\n\u001b[0;32m      7\u001b[0m                 values\u001b[38;5;241m=\u001b[39m dilim1_liste,\n\u001b[0;32m      8\u001b[0m                 hoverinfo\u001b[38;5;241m=\u001b[39m \u001b[38;5;124m'\u001b[39m\u001b[38;5;124mlabel+values+percent\u001b[39m\u001b[38;5;124m'\u001b[39m,\n\u001b[1;32m   (...)\u001b[0m\n\u001b[0;32m     12\u001b[0m                 hole\u001b[38;5;241m=\u001b[39m \u001b[38;5;241m0.3\u001b[39m,\n\u001b[0;32m     13\u001b[0m                 marker \u001b[38;5;241m=\u001b[39m \u001b[38;5;28mdict\u001b[39m(line\u001b[38;5;241m=\u001b[39m\u001b[38;5;28mdict\u001b[39m(color\u001b[38;5;241m=\u001b[39m\u001b[38;5;124m'\u001b[39m\u001b[38;5;124m#000000\u001b[39m\u001b[38;5;124m'\u001b[39m, width\u001b[38;5;241m=\u001b[39m\u001b[38;5;241m1\u001b[39m)))\n",
      "Cell \u001b[1;32mIn [58], line 3\u001b[0m, in \u001b[0;36m<listcomp>\u001b[1;34m(.0)\u001b[0m\n\u001b[0;32m      1\u001b[0m veri2011 \u001b[38;5;241m=\u001b[39m df[df\u001b[38;5;241m.\u001b[39mYil \u001b[38;5;241m==\u001b[39m \u001b[38;5;241m2011\u001b[39m]\u001b[38;5;241m.\u001b[39miloc[:\u001b[38;5;241m8\u001b[39m,:]\n\u001b[0;32m      2\u001b[0m dilim1 \u001b[38;5;241m=\u001b[39m veri2011\u001b[38;5;241m.\u001b[39mOgrenci_Sayisi\n\u001b[1;32m----> 3\u001b[0m dilim1_liste \u001b[38;5;241m=\u001b[39m [\u001b[38;5;28;43mfloat\u001b[39;49m\u001b[43m(\u001b[49m\u001b[43meach\u001b[49m\u001b[38;5;241;43m.\u001b[39;49m\u001b[43mreplace\u001b[49m\u001b[43m(\u001b[49m\u001b[38;5;124;43m'\u001b[39;49m\u001b[38;5;124;43m,\u001b[39;49m\u001b[38;5;124;43m'\u001b[39;49m\u001b[43m,\u001b[49m\u001b[38;5;124;43m'\u001b[39;49m\u001b[38;5;124;43m-\u001b[39;49m\u001b[38;5;124;43m'\u001b[39;49m\u001b[43m)\u001b[49m\u001b[43m)\u001b[49m \u001b[38;5;28;01mfor\u001b[39;00m each \u001b[38;5;129;01min\u001b[39;00m veri2011\u001b[38;5;241m.\u001b[39mOgrenci_Sayisi]\n\u001b[0;32m      4\u001b[0m etiketler \u001b[38;5;241m=\u001b[39m veri2011\u001b[38;5;241m.\u001b[39mUni_ismi\n\u001b[0;32m      6\u001b[0m cizgi \u001b[38;5;241m=\u001b[39m go\u001b[38;5;241m.\u001b[39mPie(labels\u001b[38;5;241m=\u001b[39m etiketler,\n\u001b[0;32m      7\u001b[0m                 values\u001b[38;5;241m=\u001b[39m dilim1_liste,\n\u001b[0;32m      8\u001b[0m                 hoverinfo\u001b[38;5;241m=\u001b[39m \u001b[38;5;124m'\u001b[39m\u001b[38;5;124mlabel+values+percent\u001b[39m\u001b[38;5;124m'\u001b[39m,\n\u001b[1;32m   (...)\u001b[0m\n\u001b[0;32m     12\u001b[0m                 hole\u001b[38;5;241m=\u001b[39m \u001b[38;5;241m0.3\u001b[39m,\n\u001b[0;32m     13\u001b[0m                 marker \u001b[38;5;241m=\u001b[39m \u001b[38;5;28mdict\u001b[39m(line\u001b[38;5;241m=\u001b[39m\u001b[38;5;28mdict\u001b[39m(color\u001b[38;5;241m=\u001b[39m\u001b[38;5;124m'\u001b[39m\u001b[38;5;124m#000000\u001b[39m\u001b[38;5;124m'\u001b[39m, width\u001b[38;5;241m=\u001b[39m\u001b[38;5;241m1\u001b[39m)))\n",
      "\u001b[1;31mValueError\u001b[0m: could not convert string to float: '20-152'"
     ]
    }
   ],
   "source": [
    "#hata çıktı, bakilacak\n",
    "veri2011 = df[df.Yil == 2011].iloc[:8,:]\n",
    "dilim1 = veri2011.Ogrenci_Sayisi\n",
    "dilim1_liste = [float(each.replace(',','-')) for each in veri2011.Ogrenci_Sayisi]\n",
    "etiketler = veri2011.Uni_ismi\n",
    "\n",
    "cizgi = go.Pie(labels= etiketler,\n",
    "                values= dilim1_liste,\n",
    "                hoverinfo= 'label+values+percent',\n",
    "                textinfo= 'value+percent',\n",
    "                textfont=dict(size=8),\n",
    "                rotation=180,\n",
    "                hole= 0.3,\n",
    "                marker = dict(line=dict(color='#000000', width=1)))\n",
    "veri_ =[cizgi]\n",
    "yerlesim = dict(title = '2011 yili ilk 8 uni ogrenci sayilari',\n",
    "                legend = dict(orientation = \"h\"))\n",
    "\n",
    "fig = dict(data = veri_, layout= yerlesim)\n",
    "plot(fig, filename='3_dairesel-ogrenci sayisi.html')\n",
    "\n",
    "\n"
   ]
  }
 ],
 "metadata": {
  "kernelspec": {
   "display_name": "Python 3",
   "language": "python",
   "name": "python3"
  },
  "language_info": {
   "codemirror_mode": {
    "name": "ipython",
    "version": 3
   },
   "file_extension": ".py",
   "mimetype": "text/x-python",
   "name": "python",
   "nbconvert_exporter": "python",
   "pygments_lexer": "ipython3",
   "version": "3.10.7"
  }
 },
 "nbformat": 4,
 "nbformat_minor": 2
}
