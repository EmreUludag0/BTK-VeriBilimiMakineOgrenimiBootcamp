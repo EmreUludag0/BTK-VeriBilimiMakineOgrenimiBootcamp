{
 "cells": [
  {
   "cell_type": "code",
   "execution_count": 2,
   "metadata": {},
   "outputs": [],
   "source": [
    "import numpy as np\n",
    "import pandas as pd\n",
    "import matplotlib.pyplot as mtl\n",
    "from collections import Counter"
   ]
  },
  {
   "cell_type": "code",
   "execution_count": 6,
   "metadata": {},
   "outputs": [
    {
     "data": {
      "text/html": [
       "<div>\n",
       "<style scoped>\n",
       "    .dataframe tbody tr th:only-of-type {\n",
       "        vertical-align: middle;\n",
       "    }\n",
       "\n",
       "    .dataframe tbody tr th {\n",
       "        vertical-align: top;\n",
       "    }\n",
       "\n",
       "    .dataframe thead th {\n",
       "        text-align: right;\n",
       "    }\n",
       "</style>\n",
       "<table border=\"1\" class=\"dataframe\">\n",
       "  <thead>\n",
       "    <tr style=\"text-align: right;\">\n",
       "      <th></th>\n",
       "      <th>isim</th>\n",
       "      <th>cinsiyet</th>\n",
       "      <th>yas</th>\n",
       "      <th>boy</th>\n",
       "      <th>kilo</th>\n",
       "      <th>takim</th>\n",
       "      <th>uok</th>\n",
       "      <th>yil</th>\n",
       "      <th>sezon</th>\n",
       "      <th>sehir</th>\n",
       "      <th>spor</th>\n",
       "      <th>etkinlik</th>\n",
       "      <th>madalya</th>\n",
       "    </tr>\n",
       "  </thead>\n",
       "  <tbody>\n",
       "    <tr>\n",
       "      <th>0</th>\n",
       "      <td>Edgar Lindenau Aabye</td>\n",
       "      <td>M</td>\n",
       "      <td>34.0</td>\n",
       "      <td>182.48</td>\n",
       "      <td>95.62</td>\n",
       "      <td>Denmark/Sweden</td>\n",
       "      <td>DEN</td>\n",
       "      <td>1900</td>\n",
       "      <td>Summer</td>\n",
       "      <td>Paris</td>\n",
       "      <td>Tug-Of-War</td>\n",
       "      <td>Tug-Of-War Men's Tug-Of-War</td>\n",
       "      <td>Gold</td>\n",
       "    </tr>\n",
       "    <tr>\n",
       "      <th>1</th>\n",
       "      <td>Arvo Ossian Aaltonen</td>\n",
       "      <td>M</td>\n",
       "      <td>30.0</td>\n",
       "      <td>182.01</td>\n",
       "      <td>76.69</td>\n",
       "      <td>Finland</td>\n",
       "      <td>FIN</td>\n",
       "      <td>1920</td>\n",
       "      <td>Summer</td>\n",
       "      <td>Antwerpen</td>\n",
       "      <td>Swimming</td>\n",
       "      <td>Swimming Men's 200 metres Breaststroke</td>\n",
       "      <td>Bronze</td>\n",
       "    </tr>\n",
       "    <tr>\n",
       "      <th>2</th>\n",
       "      <td>Arvo Ossian Aaltonen</td>\n",
       "      <td>M</td>\n",
       "      <td>30.0</td>\n",
       "      <td>177.00</td>\n",
       "      <td>75.00</td>\n",
       "      <td>Finland</td>\n",
       "      <td>FIN</td>\n",
       "      <td>1920</td>\n",
       "      <td>Summer</td>\n",
       "      <td>Antwerpen</td>\n",
       "      <td>Swimming</td>\n",
       "      <td>Swimming Men's 400 metres Breaststroke</td>\n",
       "      <td>Bronze</td>\n",
       "    </tr>\n",
       "    <tr>\n",
       "      <th>3</th>\n",
       "      <td>Juhamatti Tapio Aaltonen</td>\n",
       "      <td>M</td>\n",
       "      <td>28.0</td>\n",
       "      <td>184.00</td>\n",
       "      <td>85.00</td>\n",
       "      <td>Finland</td>\n",
       "      <td>FIN</td>\n",
       "      <td>2014</td>\n",
       "      <td>Winter</td>\n",
       "      <td>Sochi</td>\n",
       "      <td>Ice Hockey</td>\n",
       "      <td>Ice Hockey Men's Ice Hockey</td>\n",
       "      <td>Bronze</td>\n",
       "    </tr>\n",
       "    <tr>\n",
       "      <th>4</th>\n",
       "      <td>Paavo Johannes Aaltonen</td>\n",
       "      <td>M</td>\n",
       "      <td>28.0</td>\n",
       "      <td>175.00</td>\n",
       "      <td>64.00</td>\n",
       "      <td>Finland</td>\n",
       "      <td>FIN</td>\n",
       "      <td>1948</td>\n",
       "      <td>Summer</td>\n",
       "      <td>London</td>\n",
       "      <td>Gymnastics</td>\n",
       "      <td>Gymnastics Men's Individual All-Around</td>\n",
       "      <td>Bronze</td>\n",
       "    </tr>\n",
       "  </tbody>\n",
       "</table>\n",
       "</div>"
      ],
      "text/plain": [
       "                       isim cinsiyet   yas     boy   kilo           takim  \\\n",
       "0      Edgar Lindenau Aabye        M  34.0  182.48  95.62  Denmark/Sweden   \n",
       "1      Arvo Ossian Aaltonen        M  30.0  182.01  76.69         Finland   \n",
       "2      Arvo Ossian Aaltonen        M  30.0  177.00  75.00         Finland   \n",
       "3  Juhamatti Tapio Aaltonen        M  28.0  184.00  85.00         Finland   \n",
       "4   Paavo Johannes Aaltonen        M  28.0  175.00  64.00         Finland   \n",
       "\n",
       "   uok   yil   sezon      sehir        spor  \\\n",
       "0  DEN  1900  Summer      Paris  Tug-Of-War   \n",
       "1  FIN  1920  Summer  Antwerpen    Swimming   \n",
       "2  FIN  1920  Summer  Antwerpen    Swimming   \n",
       "3  FIN  2014  Winter      Sochi  Ice Hockey   \n",
       "4  FIN  1948  Summer     London  Gymnastics   \n",
       "\n",
       "                                 etkinlik madalya  \n",
       "0             Tug-Of-War Men's Tug-Of-War    Gold  \n",
       "1  Swimming Men's 200 metres Breaststroke  Bronze  \n",
       "2  Swimming Men's 400 metres Breaststroke  Bronze  \n",
       "3             Ice Hockey Men's Ice Hockey  Bronze  \n",
       "4  Gymnastics Men's Individual All-Around  Bronze  "
      ]
     },
     "execution_count": 6,
     "metadata": {},
     "output_type": "execute_result"
    }
   ],
   "source": [
    "veri = pd.read_csv(\"olimpiyatlar_temizlenmis_20220204.csv\")\n",
    "veri.head()"
   ]
  },
  {
   "cell_type": "code",
   "execution_count": 7,
   "metadata": {},
   "outputs": [
    {
     "name": "stdout",
     "output_type": "stream",
     "text": [
      "<class 'pandas.core.frame.DataFrame'>\n",
      "RangeIndex: 39783 entries, 0 to 39782\n",
      "Data columns (total 13 columns):\n",
      " #   Column    Non-Null Count  Dtype  \n",
      "---  ------    --------------  -----  \n",
      " 0   isim      39783 non-null  object \n",
      " 1   cinsiyet  39783 non-null  object \n",
      " 2   yas       39783 non-null  float64\n",
      " 3   boy       39783 non-null  float64\n",
      " 4   kilo      39783 non-null  float64\n",
      " 5   takim     39783 non-null  object \n",
      " 6   uok       39783 non-null  object \n",
      " 7   yil       39783 non-null  int64  \n",
      " 8   sezon     39783 non-null  object \n",
      " 9   sehir     39783 non-null  object \n",
      " 10  spor      39783 non-null  object \n",
      " 11  etkinlik  39783 non-null  object \n",
      " 12  madalya   39783 non-null  object \n",
      "dtypes: float64(3), int64(1), object(9)\n",
      "memory usage: 3.9+ MB\n"
     ]
    }
   ],
   "source": [
    "veri.info()"
   ]
  },
  {
   "cell_type": "code",
   "execution_count": 9,
   "metadata": {},
   "outputs": [
    {
     "data": {
      "text/plain": [
       "Index(['isim', 'cinsiyet', 'yas', 'boy', 'kilo', 'takim', 'uok', 'yil',\n",
       "       'sezon', 'sehir', 'spor', 'etkinlik', 'madalya'],\n",
       "      dtype='object')"
      ]
     },
     "execution_count": 9,
     "metadata": {},
     "output_type": "execute_result"
    }
   ],
   "source": [
    "veri.columns"
   ]
  },
  {
   "cell_type": "markdown",
   "metadata": {},
   "source": [
    "# sütun isimlerini değiştirme"
   ]
  },
  {
   "cell_type": "code",
   "execution_count": 11,
   "metadata": {},
   "outputs": [],
   "source": [
    "#örnek olması için ilk üç sütunu değiştirdim, csv dosyası düzenlenilip paylaşılmış.\n",
    "veri.rename(columns={'isim'     : 'Name',\n",
    "                     'cinsiyet' : 'Gender',\n",
    "                     'yas'      :  'Age'}, inplace=True) #(inplace= True) anlamı, ismi değiştirilen kelimenin direkt üstüne yazılmasını sağlar."
   ]
  },
  {
   "cell_type": "code",
   "execution_count": 12,
   "metadata": {},
   "outputs": [
    {
     "data": {
      "text/plain": [
       "Index(['Name', 'Gender', 'Age', 'boy', 'kilo', 'takim', 'uok', 'yil', 'sezon',\n",
       "       'sehir', 'spor', 'etkinlik', 'madalya'],\n",
       "      dtype='object')"
      ]
     },
     "execution_count": 12,
     "metadata": {},
     "output_type": "execute_result"
    }
   ],
   "source": [
    "veri.columns"
   ]
  },
  {
   "cell_type": "code",
   "execution_count": null,
   "metadata": {},
   "outputs": [],
   "source": []
  }
 ],
 "metadata": {
  "kernelspec": {
   "display_name": "Python 3",
   "language": "python",
   "name": "python3"
  },
  "language_info": {
   "codemirror_mode": {
    "name": "ipython",
    "version": 3
   },
   "file_extension": ".py",
   "mimetype": "text/x-python",
   "name": "python",
   "nbconvert_exporter": "python",
   "pygments_lexer": "ipython3",
   "version": "3.10.7"
  }
 },
 "nbformat": 4,
 "nbformat_minor": 2
}
